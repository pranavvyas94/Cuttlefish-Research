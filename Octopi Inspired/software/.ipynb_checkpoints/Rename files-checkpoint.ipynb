{
 "cells": [
  {
   "cell_type": "code",
   "execution_count": 53,
   "metadata": {},
   "outputs": [],
   "source": [
    "import os \n",
    "  \n",
    "path = \"E:\\Quarter 3.2\\Prakash Lab\\Codes\\Shape and size extraction\\Datasets\\\\02.21.20 Time Lapse Glass Bottom\\_2020-02-21 19-47-33.643016\"\n",
    "dirs = os.listdir(path)\n",
    "\n",
    "# inserting additional zeros so that the file name reads them in correct order\n",
    "for item in dirs: \n",
    "    full_path = os.path.join(path,item)  \n",
    "    file_list = os.listdir(full_path)\n",
    "    for file in file_list:\n",
    "        trial_name = file[0:-9]\n",
    "        \n",
    "        # calculating the final name by testing where underscore is and appropriately modifying the names\n",
    "        len_trial = len(trial_name)\n",
    "        under_pos = trial_name.find('_')\n",
    "        final_name = trial_name + '.png'  #the default change\n",
    "        if (len_trial==3):\n",
    "            final_name = '0'+trial_name[0:2]+'0'+trial_name[2]+'.png'\n",
    "        if (len_trial==4):\n",
    "            if (under_pos==1):\n",
    "                final_name = '0'+trial_name[0:4]+'.png'\n",
    "            elif (under_pos==2):\n",
    "                final_name = trial_name[0:3]+'0'+trial_name[3]+'.png'\n",
    "        \n",
    "        \n",
    "        # rename all the files\n",
    "        src = os.path.join(full_path,file)\n",
    "        dst = os.path.join(full_path,final_name)\n",
    "        os.rename(src, dst)\n",
    "       "
   ]
  },
  {
   "cell_type": "code",
   "execution_count": 54,
   "metadata": {},
   "outputs": [],
   "source": [
    "# changing all filenames to a serial order\n",
    "for item in dirs: \n",
    "    full_path = os.path.join(path,item)  \n",
    "    file_list = os.listdir(full_path)\n",
    "    ii = 1\n",
    "    for file in file_list:\n",
    "        new_name = str(ii).zfill(4)+'.png'\n",
    "        src = os.path.join(full_path,file)\n",
    "        dst = os.path.join(full_path,new_name)\n",
    "        os.rename(src, dst)\n",
    "        ii = ii+1"
   ]
  },
  {
   "cell_type": "code",
   "execution_count": 46,
   "metadata": {},
   "outputs": [],
   "source": [
    "# for item in dirs: \n",
    "#     full_path = os.path.join(path,item)  \n",
    "#     file_list = os.listdir(full_path)\n",
    "#     ii = 1\n",
    "#     for file in file_list:\n",
    "#         new_name = 'test_'+str(ii).zfill(4)+'.png'\n",
    "#         src = os.path.join(full_path,file)\n",
    "#         dst = os.path.join(full_path,new_name)\n",
    "#         os.rename(src, dst)\n",
    "#         ii = ii+1"
   ]
  },
  {
   "cell_type": "code",
   "execution_count": 51,
   "metadata": {},
   "outputs": [
    {
     "data": {
      "text/plain": [
       "['0',\n",
       " '1',\n",
       " '10',\n",
       " '11',\n",
       " '12',\n",
       " '13',\n",
       " '2',\n",
       " '3',\n",
       " '4',\n",
       " '5',\n",
       " '6',\n",
       " '7',\n",
       " '8',\n",
       " '9',\n",
       " 'Corrected_0',\n",
       " 'Corrected_1',\n",
       " 'Corrected_10',\n",
       " 'Corrected_11',\n",
       " 'Corrected_12',\n",
       " 'Corrected_13',\n",
       " 'Corrected_2',\n",
       " 'Corrected_3',\n",
       " 'Corrected_4',\n",
       " 'Corrected_5',\n",
       " 'Corrected_6',\n",
       " 'Corrected_7',\n",
       " 'Corrected_8',\n",
       " 'Corrected_9']"
      ]
     },
     "execution_count": 51,
     "metadata": {},
     "output_type": "execute_result"
    }
   ],
   "source": [
    "dirs"
   ]
  },
  {
   "cell_type": "code",
   "execution_count": 8,
   "metadata": {
    "ExecuteTime": {
     "end_time": "2020-11-03T17:53:37.083900Z",
     "start_time": "2020-11-03T17:53:36.959892Z"
    }
   },
   "outputs": [],
   "source": [
    "import os \n",
    "  \n",
    "path = 'E:\\Quarter 4.1\\Prakash Lab\\Squid Paper\\High Speed Camera\\Beat Frequency\\\\39 section good data taken'\n",
    "\n",
    "file_list = [img for img in os.listdir(path) if img.endswith(\".bmp\")] \n",
    "\n",
    "for file in file_list:\n",
    "    trial_name = file[0:-4]\n",
    "\n",
    "    # calculating the final name by testing where underscore is and appropriately modifying the names\n",
    "    len_trial = len(trial_name)\n",
    "    final_name = trial_name + '.bmp'  #the default change\n",
    "    if (len_trial==1):\n",
    "        final_name = '000'+trial_name+'.bmp'\n",
    "    if (len_trial==2):\n",
    "        final_name = '00'+trial_name+'.bmp'\n",
    "    if (len_trial==3):\n",
    "        final_name = '0'+trial_name+'.bmp'\n",
    "#     if (len_trial==8):\n",
    "#         final_name = trial_name[0:4]+'00'+trial_name[4:8]+'.tif'\n",
    "#     if (len_trial==9):\n",
    "#         final_name = trial_name[0:4]+'0'+trial_name[4:9]+'.tif'\n",
    "\n",
    "        # rename all the files\n",
    "    src = os.path.join(path,file)\n",
    "    dst = os.path.join(path,final_name)\n",
    "    os.rename(src, dst)\n",
    "       "
   ]
  },
  {
   "cell_type": "code",
   "execution_count": null,
   "metadata": {},
   "outputs": [],
   "source": []
  }
 ],
 "metadata": {
  "kernelspec": {
   "display_name": "Python 3",
   "language": "python",
   "name": "python3"
  },
  "language_info": {
   "codemirror_mode": {
    "name": "ipython",
    "version": 3
   },
   "file_extension": ".py",
   "mimetype": "text/x-python",
   "name": "python",
   "nbconvert_exporter": "python",
   "pygments_lexer": "ipython3",
   "version": "3.7.6"
  }
 },
 "nbformat": 4,
 "nbformat_minor": 4
}
